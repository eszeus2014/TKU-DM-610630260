{
 "cells": [
  {
   "cell_type": "code",
   "execution_count": 5,
   "id": "994978e7",
   "metadata": {},
   "outputs": [],
   "source": [
    "import matplotlib.pyplot as plt\n",
    "import numpy as np\n",
    "from sklearn import datasets,linear_model"
   ]
  },
  {
   "cell_type": "code",
   "execution_count": 2,
   "id": "b37cf335",
   "metadata": {},
   "outputs": [],
   "source": [
    "diabetes = datasets.load_diabetes()"
   ]
  },
  {
   "cell_type": "code",
   "execution_count": 27,
   "id": "b288dbca",
   "metadata": {},
   "outputs": [],
   "source": [
    "diabetes_X = diabetes.data[:,np.newaxis,2]"
   ]
  },
  {
   "cell_type": "code",
   "execution_count": 26,
   "id": "adaf4675",
   "metadata": {},
   "outputs": [],
   "source": [
    "diabetes_X_train =  diabetes_X[:-20]\n",
    "diabetes_X_test =  diabetes_X[-20:]"
   ]
  },
  {
   "cell_type": "code",
   "execution_count": 25,
   "id": "c812bbce",
   "metadata": {},
   "outputs": [],
   "source": [
    "diabetes_y_train =  diabetes.target[:-20]\n",
    "diabetes_y_test =  diabetes.target[-20:]"
   ]
  },
  {
   "cell_type": "code",
   "execution_count": 12,
   "id": "cf9c52a6",
   "metadata": {},
   "outputs": [],
   "source": [
    "regr = linear_model.LinearRegression()"
   ]
  },
  {
   "cell_type": "code",
   "execution_count": 13,
   "id": "cbbce9e7",
   "metadata": {},
   "outputs": [
    {
     "data": {
      "text/plain": [
       "LinearRegression()"
      ]
     },
     "execution_count": 13,
     "metadata": {},
     "output_type": "execute_result"
    }
   ],
   "source": [
    "regr.fit(diabetes_X_train,diabetes_y_train)"
   ]
  },
  {
   "cell_type": "code",
   "execution_count": 14,
   "id": "0d3701a4",
   "metadata": {
    "scrolled": true
   },
   "outputs": [
    {
     "name": "stdout",
     "output_type": "stream",
     "text": [
      "coefficients: \n",
      " [938.23786125]\n"
     ]
    }
   ],
   "source": [
    "print('coefficients: \\n',regr.coef_)"
   ]
  },
  {
   "cell_type": "code",
   "execution_count": 18,
   "id": "2379acfc",
   "metadata": {},
   "outputs": [
    {
     "name": "stdout",
     "output_type": "stream",
     "text": [
      "Mean squared error: 2548.07\n"
     ]
    }
   ],
   "source": [
    "print('Mean squared error: %.2f' % \n",
    "      np.mean((regr.predict(diabetes_X_test)-diabetes_y_test)**2))"
   ]
  },
  {
   "cell_type": "code",
   "execution_count": 19,
   "id": "b073d934",
   "metadata": {},
   "outputs": [
    {
     "name": "stdout",
     "output_type": "stream",
     "text": [
      "Variance score: 0.472575\n"
     ]
    }
   ],
   "source": [
    "print('Variance score: %2f' % regr.score(diabetes_X_test,diabetes_y_test))"
   ]
  },
  {
   "cell_type": "code",
   "execution_count": 20,
   "id": "3ed429cb",
   "metadata": {},
   "outputs": [
    {
     "data": {
      "text/plain": [
       "[<matplotlib.lines.Line2D at 0x23aa4e772b0>]"
      ]
     },
     "execution_count": 20,
     "metadata": {},
     "output_type": "execute_result"
    },
    {
     "data": {
      "image/png": "[encoded data removed]",
      "text/plain": [
       "<Figure size 432x288 with 1 Axes>"
      ]
     },
     "metadata": {
      "needs_background": "light"
     },
     "output_type": "display_data"
    }
   ],
   "source": [
    "plt.scatter(diabetes_X_test,diabetes_y_test, color='black')\n",
    "plt.plot(diabetes_X_test,regr.predict(diabetes_X_test),color = 'blue',\n",
    "         linewidth = 3)"
   ]
  },
  {
   "cell_type": "code",
   "execution_count": 24,
   "id": "26721a9d",
   "metadata": {},
   "outputs": [
    {
     "data": {
      "text/plain": [
       "([], [])"
      ]
     },
     "execution_count": 24,
     "metadata": {},
     "output_type": "execute_result"
    },
    {
     "data": {
      "image/png": "[encoded data removed]",
      "text/plain": [
       "<Figure size 432x288 with 1 Axes>"
      ]
     },
     "metadata": {},
     "output_type": "display_data"
    }
   ],
   "source": [
    "plt.xticks(())\n",
    "plt.yticks(())"
   ]
  },
  {
   "cell_type": "code",
   "execution_count": 23,
   "id": "6535de1e",
   "metadata": {},
   "outputs": [],
   "source": [
    "plt.show()"
   ]
  },
  {
   "cell_type": "code",
   "execution_count": null,
   "id": "f4430e05",
   "metadata": {},
   "outputs": [],
   "source": []
  },
  {
   "cell_type": "code",
   "execution_count": 31,
   "id": "6ceaed18",
   "metadata": {},
   "outputs": [],
   "source": [
    "import numpy as np\n",
    "\n",
    "from sklearn.model_selection import train_test_split # K-means\n",
    "from sklearn.cluster import KMeans\n",
    "from time import time\n",
    "import numpy as np\n",
    "import matplotlib.pyplot as plt\n",
    "\n",
    "from sklearn import metrics\n"
   ]
  },
  {
   "cell_type": "code",
   "execution_count": 32,
   "id": "5a84da17",
   "metadata": {},
   "outputs": [
    {
     "name": "stdout",
     "output_type": "stream",
     "text": [
      "集體中心的座標: [[2.1 2.1]\n",
      " [1.1 1.1]]\n",
      "預測: [1 1 1 0 0 0]\n",
      "實際: [1, 1, 1, 0, 0, 0]\n",
      "預測[1, 1], [2.3,2.1]: [1 0]\n"
     ]
    }
   ],
   "source": [
    "X= np.array([[1,1],[1.1, 1.1],[1.2, 1.2],\n",
    "[2,2], [2.1,2.1], [2.2, 2.2]])\n",
    "y=[1,1,1,\n",
    "0,0,0]\n",
    "kmeans = KMeans (n_clusters=2, random_state=0).fit (X) # KMeans\n",
    "print(\"集體中心的座標:\", kmeans.cluster_centers_) #SPONEE\n",
    "print(\"預測:\", kmeans.predict(X)) #\n",
    "print(\"實際:\",y) #####\n",
    "print(\"預測[1, 1], [2.3,2.1]:\", kmeans.predict ( [[1, 1], [2.3, 2.1]])) ###\n"
   ]
  },
  {
   "cell_type": "code",
   "execution_count": 35,
   "id": "6dd0d35d",
   "metadata": {},
   "outputs": [
    {
     "data": {
      "image/png": "[encoded data removed]",
      "text/plain": [
       "<Figure size 432x288 with 1 Axes>"
      ]
     },
     "metadata": {},
     "output_type": "display_data"
    }
   ],
   "source": [
    "plt.axis ([0, 3, 0, 3]) # #\n",
    "plt.plot(X[:3,0], X[:3,1], 'yx' ) #\n",
    "plt.plot(X[3:,0], X[3:,1], 'g.' ) #\n",
    "plt.plot(kmeans.cluster_centers_[:,0], kmeans.cluster_centers_[:,1], 'ro') ###\n",
    "plt.xticks (())\n",
    "plt.yticks (())\n",
    "plt.show()"
   ]
  },
  {
   "cell_type": "code",
   "execution_count": null,
   "id": "c1ca91d4",
   "metadata": {},
   "outputs": [],
   "source": []
  },
  {
   "cell_type": "code",
   "execution_count": 37,
   "id": "d6fe4b86",
   "metadata": {},
   "outputs": [],
   "source": [
    "import matplotlib.pyplot as plt\n",
    "import numpy as np\n",
    "from sklearn import datasets\n",
    "from sklearn.model_selection import train_test_split\n",
    "from sklearn.cluster import KMeans\n",
    "from sklearn import metrics\n",
    "#取得鳶尾花的資料\n",
    "iris = datasets. load_iris()\n",
    "# 拆分資料80:20 訓練與測試用 2 類標笼答案\n",
    "iris_X_train, iris_x_test, iris_y_train, iris_y_test= train_test_split(iris.data, iris. target, test_size=0.2)\n",
    "#鳶尾花\n",
    "#KMeans"
   ]
  },
  {
   "cell_type": "code",
   "execution_count": 41,
   "id": "c3e8fa35",
   "metadata": {},
   "outputs": [
    {
     "name": "stdout",
     "output_type": "stream",
     "text": [
      "實際 [1 1 2 1 0 1 2 2 2 0 0 0 1 1 0 0 0 1 2 2 0 0 1 0 1 2 0 2 2 1 0 1 2 0 2 1 2\n",
      " 1 0 0 2 1 2 0 2 0 1 2 0 2 2 1 2 0 0 0 2 1 2 0 0 1 1 1 0 1 0 2 1 0 1 0 2 0\n",
      " 1 0 2 1 2 1 2 2 1 0 1 2 1 0 0 2 2 2 0 0 1 0 0 2 1 1 1 1 0 1 1 2 2 1 1 1 2\n",
      " 2 1 0 1 2 2 2 2 1]\n",
      "預測 [1 0 0 0 1 0 0 0 0 1 1 1 0 0 1 1 1 0 0 0 1 1 0 1 0 0 1 0 0 0 1 0 0 1 0 0 0\n",
      " 0 1 1 0 0 0 1 0 1 0 0 1 0 0 0 0 1 1 1 0 0 0 1 1 0 0 0 1 0 1 0 0 1 0 1 0 1\n",
      " 0 1 0 0 0 0 0 0 0 1 0 0 0 1 1 0 0 0 1 1 0 1 1 0 0 0 0 1 1 0 0 0 0 0 0 0 0\n",
      " 0 0 1 0 0 0 0 0 1]\n",
      "調整 [0 0 2 0 1 0 2 2 2 1 1 1 0 0 1 1 1 0 2 2 1 1 0 1 0 2 1 2 2 0 1 0 2 1 2 0 2\n",
      " 0 1 1 2 0 2 1 2 1 0 2 1 2 2 0 2 1 1 1 2 0 2 1 1 0 0 0 1 0 1 2 0 1 0 1 2 1\n",
      " 0 1 2 0 2 0 2 2 0 1 0 2 0 1 1 2 2 2 1 1 0 1 1 2 0 0 0 0 1 0 0 2 2 0 0 0 2\n",
      " 2 0 1 0 2 2 2 2 0]\n",
      "準確率:  0.641667\n"
     ]
    }
   ],
   "source": [
    "kmeans = KMeans (n_clusters = 2)\n",
    "kmeans_fit =kmeans.fit (iris_X_train) #SABAR\n",
    "print(\"實際\", iris_y_train) #\n",
    "print(\"預測\", kmeans_fit.labels_) # 顯示預測答案\n",
    "#調整標簽的數字\n",
    "iris_y_train [iris_y_train==1]=11\n",
    "iris_y_train [iris_y_train==0] =1\n",
    "iris_y_train [iris_y_train==11]=0\n",
    "print(\"調整\", iris_y_train) #\n",
    "score = metrics.accuracy_score(iris_y_train, kmeans.predict(iris_X_train))\n",
    "print('準確率: {0: f}'. format (score)) #"
   ]
  },
  {
   "cell_type": "code",
   "execution_count": null,
   "id": "900e0910",
   "metadata": {},
   "outputs": [],
   "source": []
  }
 ],
 "metadata": {
  "kernelspec": {
   "display_name": "Python 3 (ipykernel)",
   "language": "python",
   "name": "python3"
  },
  "language_info": {
   "codemirror_mode": {
    "name": "ipython",
    "version": 3
   },
   "file_extension": ".py",
   "mimetype": "text/x-python",
   "name": "python",
   "nbconvert_exporter": "python",
   "pygments_lexer": "ipython3",
   "version": "3.9.12"
  }
 },
 "nbformat": 4,
 "nbformat_minor": 5
}
